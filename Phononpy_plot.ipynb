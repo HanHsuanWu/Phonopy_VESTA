{
 "cells": [
  {
   "cell_type": "code",
   "execution_count": 13,
   "id": "2f74566f",
   "metadata": {},
   "outputs": [
    {
     "data": {
      "image/png": "[encoded data removed]",
      "text/plain": [
       "<Figure size 600x400 with 1 Axes>"
      ]
     },
     "metadata": {},
     "output_type": "display_data"
    }
   ],
   "source": [
    "# -*- coding: utf-8 -*-\n",
    "\"\"\"\n",
    "Phonon mode visualizer from band.yaml (Phonopy output)\n",
    "\n",
    "Usage (in IPython):\n",
    "    disp, freqs, q_pos = read_and_extract(\"band.yaml\", \"POSCAR.vesta\")\n",
    "    plot_mode(disp, freqs, q_pos, q_index=0, band_index=0)\n",
    "\n",
    "\"\"\"\n",
    "\n",
    "import numpy as np\n",
    "import yaml\n",
    "import matplotlib.pyplot as plt\n",
    "from pathlib import Path\n",
    "\n",
    "\n",
    "def read_files(band_file=\"band.yaml\", vesta_file=\"POSCAR.vesta\"):\n",
    "    \"\"\"Read band.yaml and POSCAR.vesta files\"\"\"\n",
    "    if not Path(band_file).exists() or not Path(vesta_file).exists():\n",
    "        raise FileNotFoundError(f\"Missing {band_file} or {vesta_file}\")\n",
    "    with open(band_file) as f:\n",
    "        band_yaml = yaml.safe_load(f)\n",
    "    with open(vesta_file) as f:\n",
    "        vesta = f.read()\n",
    "    return band_yaml, vesta\n",
    "\n",
    "\n",
    "def extract(band_yaml):\n",
    "    \"\"\"\n",
    "    Extract displacements and frequencies from band.yaml data\n",
    "\n",
    "    Returns:\n",
    "    --------\n",
    "    displacements : np.ndarray [nq, nb, na, 3]\n",
    "        Eigenvectors for each q-point, band, atom, and direction\n",
    "    freqs : np.ndarray [nq, nb]\n",
    "        Frequencies for each q-point and band\n",
    "    q_pos : np.ndarray [nq, 3]\n",
    "        q-point coordinates\n",
    "    \"\"\"\n",
    "    nq = len(band_yaml[\"phonon\"])\n",
    "    nb = len(band_yaml[\"phonon\"][0][\"band\"])\n",
    "    na = len(band_yaml[\"phonon\"][0][\"band\"][0][\"eigenvector\"])\n",
    "\n",
    "    freqs = np.zeros((nq, nb))\n",
    "    disp = np.zeros((nq, nb, na, 3))\n",
    "    q_pos = []\n",
    "\n",
    "    for iq, q in enumerate(band_yaml[\"phonon\"]):\n",
    "        q_pos.append(q[\"q-position\"])\n",
    "        for ib, b in enumerate(q[\"band\"]):\n",
    "            freqs[iq, ib] = b[\"frequency\"]\n",
    "            for ia, vec in enumerate(b[\"eigenvector\"]):\n",
    "                # each vec is [[real, imag], [real, imag], [real, imag]]\n",
    "                disp[iq, ib, ia, :] = [float(v[0]) for v in vec]\n",
    "\n",
    "    return disp, freqs, np.array(q_pos)\n",
    "\n",
    "\n",
    "def plot_mode(displacements, freqs, q_pos, q_index=0, band_index=0):\n",
    "    \"\"\"\n",
    "    Plot phonon mode vectors (2D projection) using matplotlib.quiver\n",
    "\n",
    "    Parameters:\n",
    "    -----------\n",
    "    displacements : np.ndarray [nq, nb, na, 3]\n",
    "    freqs : np.ndarray [nq, nb]\n",
    "    q_pos : np.ndarray [nq, 3]\n",
    "    q_index : int\n",
    "        Which q-point to plot\n",
    "    band_index : int\n",
    "        Which phonon band to plot\n",
    "    \"\"\"\n",
    "    mode = displacements[q_index, band_index, :, :]\n",
    "    na = mode.shape[0]\n",
    "\n",
    "    # Fake atom positions in a grid (since POSCAR parsing not implemented here)\n",
    "    x = np.arange(na)\n",
    "    y = np.zeros(na)\n",
    "\n",
    "    plt.figure(figsize=(6, 4))\n",
    "    plt.quiver(x, y, mode[:, 0], mode[:, 1], angles=\"xy\", scale=1, scale_units=\"xy\", color=\"blue\")\n",
    "    plt.title(f\"Phonon mode at q={q_pos[q_index]}  band={band_index}  f={freqs[q_index, band_index]:.2f} THz\")\n",
    "    plt.xlabel(\"x\")\n",
    "    plt.ylabel(\"y\")\n",
    "    plt.axis(\"equal\")\n",
    "    plt.show()\n",
    "\n",
    "\n",
    "# Example usage in IPython\n",
    "if __name__ == \"__main__\":\n",
    "    band_yaml, vesta = read_files(\"band.yaml\", \"POSCAR.vesta\")\n",
    "    displacements, freqs, q_pos = extract(band_yaml)\n",
    "    plot_mode(displacements, freqs, q_pos, q_index=1, band_index=1)\n"
   ]
  },
  {
   "cell_type": "code",
   "execution_count": null,
   "id": "02bf8725",
   "metadata": {},
   "outputs": [
    {
     "name": "stdout",
     "output_type": "stream",
     "text": [
      "c:\\Users\\Han-Hsuan\\Documents\\GitHub\\Phonopy_VESTA\\Si\n",
      "c:\\Users\\Han-Hsuan\\Documents\\GitHub\\Phonopy_VESTA\\Si\\phonon\n"
     ]
    }
   ],
   "source": [
    "import os\n",
    "\n",
    "# full path to your project\n",
    "base_dir = r\"c:\\Users\\Han-Hsuan\\Documents\\GitHub\\Phonopy_VESTA\\Si\\phonon\"\n",
    "\n",
    "# go into band_yaml\n",
    "os.chdir(os.path.join(base_dir, \"band_yaml\"))"
   ]
  }
 ],
 "metadata": {
  "kernelspec": {
   "display_name": "Python 3",
   "language": "python",
   "name": "python3"
  },
  "language_info": {
   "codemirror_mode": {
    "name": "ipython",
    "version": 3
   },
   "file_extension": ".py",
   "mimetype": "text/x-python",
   "name": "python",
   "nbconvert_exporter": "python",
   "pygments_lexer": "ipython3",
   "version": "3.12.11"
  }
 },
 "nbformat": 4,
 "nbformat_minor": 5
}
